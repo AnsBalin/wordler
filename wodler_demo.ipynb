{
 "cells": [
  {
   "cell_type": "code",
   "execution_count": 1,
   "id": "7d47d70d-e771-4b62-bf76-6d2cbdf511d5",
   "metadata": {},
   "outputs": [],
   "source": [
    "import wordlist\n",
    "import wordler"
   ]
  },
  {
   "cell_type": "markdown",
   "id": "ba781bdc-56ba-4145-8929-6339f4e7bf47",
   "metadata": {},
   "source": [
    "## Run strategy over ensemble of simulated wordle games\n",
    "\n",
    "Instantiating a wordle game with a hidden answer, the strategy will make repeated guesses, extracting the result from the wordle game and updating its internal state. "
   ]
  },
  {
   "cell_type": "code",
   "execution_count": 2,
   "id": "adfb36d2-8041-42ce-a842-f8c5a9de4694",
   "metadata": {},
   "outputs": [
    {
     "name": "stdout",
     "output_type": "stream",
     "text": [
      "crate ['stare', 'trace', 'crate']\n",
      "groom ['stare', 'croon', 'brood', 'proof', 'groom']\n",
      "hello ['stare', 'olden', 'hello']\n",
      "tiger ['stare', 'tenor', 'tiger']\n",
      "proxy ['stare', 'croon', 'proud', 'proxy']\n"
     ]
    }
   ],
   "source": [
    "for answer in [ \"crate\", \"groom\", \"hello\", \"tiger\", \"proxy\" ]:\n",
    "    \n",
    "    # Set up Wordle game with given answer\n",
    "    wordle_game = wordler.Wordle(answer)\n",
    "    \n",
    "    # Initialize a PruneStrategy with the 4000 most common words in the dictionary and run it\n",
    "    strat = wordler.PruneStrategy(top_n=4000, init_guess=\"stare\")\n",
    "    strat.run_strategy(wordle_game)\n",
    "    \n",
    "    print( answer, strat.guesses_made )"
   ]
  },
  {
   "cell_type": "markdown",
   "id": "e34367b0-6dce-41b5-a3c3-f8f208aaa668",
   "metadata": {},
   "source": [
    "## Run with external game\n",
    "\n",
    "We can manually input wordle results to extract the next guess from a strategy. A wordle result should be passed in the form:\n",
    "\n",
    "```\n",
    "result = {\n",
    "    'word': 'stare',\n",
    "    'result': [ wordler.GREEN, wordler.GREY, wordler.GREY, wordler.YELLOW, wordler.GREY ]\n",
    "}\n",
    "```"
   ]
  },
  {
   "cell_type": "code",
   "execution_count": 3,
   "id": "fa85efcc-b315-46cf-8917-2294a93baefd",
   "metadata": {},
   "outputs": [
    {
     "name": "stdout",
     "output_type": "stream",
     "text": [
      "scrub\n"
     ]
    }
   ],
   "source": [
    "strat = wordler.PruneStrategy(top_n=4000, init_guess=\"stare\")\n",
    "strat.update_state(\n",
    "    {\n",
    "        'word': 'stare',\n",
    "        'result': [ wordler.GREEN, wordler.GREY, wordler.GREY, wordler.YELLOW, wordler.GREY ]\n",
    "    }\n",
    ")\n",
    "guess = strat.decide_guess()\n",
    "\n",
    "print(guess)"
   ]
  }
 ],
 "metadata": {
  "kernelspec": {
   "display_name": "Python 3 (ipykernel)",
   "language": "python",
   "name": "python3"
  },
  "language_info": {
   "codemirror_mode": {
    "name": "ipython",
    "version": 3
   },
   "file_extension": ".py",
   "mimetype": "text/x-python",
   "name": "python",
   "nbconvert_exporter": "python",
   "pygments_lexer": "ipython3",
   "version": "3.9.9"
  }
 },
 "nbformat": 4,
 "nbformat_minor": 5
}
