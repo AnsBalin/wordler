{
 "cells": [
  {
   "cell_type": "code",
   "execution_count": 1,
   "id": "7d47d70d-e771-4b62-bf76-6d2cbdf511d5",
   "metadata": {},
   "outputs": [],
   "source": [
    "import wordlist\n",
    "import wordler"
   ]
  },
  {
   "cell_type": "code",
   "execution_count": 2,
   "id": "adfb36d2-8041-42ce-a842-f8c5a9de4694",
   "metadata": {},
   "outputs": [
    {
     "name": "stdout",
     "output_type": "stream",
     "text": [
      "crate ['stare', 'trace', 'crate']\n",
      "groom ['stare', 'croon', 'brood', 'proof', 'groom']\n",
      "hello ['stare', 'olden', 'hello']\n",
      "tiger ['stare', 'tenor', 'tiger']\n",
      "proxy ['stare', 'croon', 'proud', 'proxy']\n"
     ]
    }
   ],
   "source": [
    "for answer in [ \"crate\", \"groom\", \"hello\", \"tiger\", \"proxy\" ]:\n",
    "    \n",
    "    # Set up Wordle game with given answer\n",
    "    wordle_game = wordler.Wordle(answer)\n",
    "    \n",
    "    # Initialize a PruneStrategy with the 4000 most common words in the dictionary and run it\n",
    "    strat = wordler.PruneStrategy(top_n=4000)\n",
    "    strat.run_strategy(wordle_game)\n",
    "    \n",
    "    print( answer, strat.guesses_made )"
   ]
  },
  {
   "cell_type": "code",
   "execution_count": null,
   "id": "e03b6a7d-496d-4d54-8215-2fbe338b1608",
   "metadata": {},
   "outputs": [],
   "source": []
  }
 ],
 "metadata": {
  "kernelspec": {
   "display_name": "Python 3 (ipykernel)",
   "language": "python",
   "name": "python3"
  },
  "language_info": {
   "codemirror_mode": {
    "name": "ipython",
    "version": 3
   },
   "file_extension": ".py",
   "mimetype": "text/x-python",
   "name": "python",
   "nbconvert_exporter": "python",
   "pygments_lexer": "ipython3",
   "version": "3.9.9"
  }
 },
 "nbformat": 4,
 "nbformat_minor": 5
}
