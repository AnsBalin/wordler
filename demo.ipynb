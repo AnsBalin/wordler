{
 "cells": [
  {
   "cell_type": "code",
   "execution_count": 4,
   "id": "7d47d70d-e771-4b62-bf76-6d2cbdf511d5",
   "metadata": {},
   "outputs": [],
   "source": [
    "import wordlist\n",
    "from wordler import Wordle, PruneStrategy, Tile "
   ]
  },
  {
   "cell_type": "markdown",
   "id": "ba781bdc-56ba-4145-8929-6339f4e7bf47",
   "metadata": {},
   "source": [
    "## Run strategy over ensemble of simulated wordle games\n",
    "\n",
    "To simulate a strategy on a wordle game with a particular answer, instantiate a `Wordle` with an answer, and pass it to the strategy. The strategy will perform repeated guesses, updating its internal state with the gained knowledge and pruning its word list accordingly. "
   ]
  },
  {
   "cell_type": "code",
   "execution_count": 2,
   "id": "adfb36d2-8041-42ce-a842-f8c5a9de4694",
   "metadata": {},
   "outputs": [
    {
     "name": "stdout",
     "output_type": "stream",
     "text": [
      "crate ['stare', 'trace', 'crate']\n",
      "groom ['stare', 'croon', 'brood', 'proof', 'groom']\n",
      "hello ['stare', 'olden', 'hello']\n",
      "tiger ['stare', 'tenor', 'tiger']\n",
      "proxy ['stare', 'croon', 'proud', 'proxy']\n"
     ]
    }
   ],
   "source": [
    "for answer in [ \"crate\", \"groom\", \"hello\", \"tiger\", \"proxy\" ]:\n",
    "    \n",
    "    # Set up Wordle game with given answer\n",
    "    wordle_game = Wordle(answer)\n",
    "    \n",
    "    # Initialize a PruneStrategy with the 4000 most common words in the dictionary and run it\n",
    "    strat = PruneStrategy(top_n=4000, init_guess=\"stare\")\n",
    "    strat.run_strategy(wordle_game)\n",
    "    \n",
    "    print( answer, strat.guesses_made )"
   ]
  },
  {
   "cell_type": "markdown",
   "id": "e34367b0-6dce-41b5-a3c3-f8f208aaa668",
   "metadata": {},
   "source": [
    "## Run with external game\n",
    "\n",
    "To manually extract guesses from a strategy, update its state with a wordle result (for example, obtained from a real game). A wordle result should be passed in the form:\n",
    "\n",
    "```\n",
    "result = {\n",
    "    'word': 'stare', \n",
    "    'result': [ wordler.GREEN, wordler.GREY, wordler.GREY, wordler.YELLOW, wordler.GREY ]\n",
    "}\n",
    "```"
   ]
  },
  {
   "cell_type": "code",
   "execution_count": 5,
   "id": "fa85efcc-b315-46cf-8917-2294a93baefd",
   "metadata": {},
   "outputs": [
    {
     "name": "stdout",
     "output_type": "stream",
     "text": [
      "month\n"
     ]
    }
   ],
   "source": [
    "strat = PruneStrategy(top_n=4000, init_guess=\"stare\")\n",
    "strat.update_state(\n",
    "    {\n",
    "        'word': 'stare',\n",
    "        'result': [ Tile.GREY, Tile.YELLOW, Tile.GREY, Tile.GREY, Tile.GREY ]\n",
    "    }\n",
    ")\n",
    "guess = strat.decide_guess()\n",
    "\n",
    "print(guess)"
   ]
  },
  {
   "cell_type": "code",
   "execution_count": 7,
   "id": "7975bf70-b6a2-41b7-a361-bdceabe47d1a",
   "metadata": {},
   "outputs": [
    {
     "name": "stdout",
     "output_type": "stream",
     "text": [
      "point\n"
     ]
    }
   ],
   "source": [
    "strat.update_state(\n",
    "    {\n",
    "        'word': 'month',\n",
    "        'result': [ Tile.GREY, Tile.GREEN, Tile.YELLOW, Tile.YELLOW, Tile.GREY ]\n",
    "    }\n",
    ")\n",
    "guess = strat.decide_guess()\n",
    "\n",
    "print(guess)"
   ]
  },
  {
   "cell_type": "code",
   "execution_count": 8,
   "id": "af11da82-3579-46df-afae-71dd84cedddf",
   "metadata": {},
   "outputs": [
    {
     "data": {
      "text/html": [
       "<div>\n",
       "<style scoped>\n",
       "    .dataframe tbody tr th:only-of-type {\n",
       "        vertical-align: middle;\n",
       "    }\n",
       "\n",
       "    .dataframe tbody tr th {\n",
       "        vertical-align: top;\n",
       "    }\n",
       "\n",
       "    .dataframe thead th {\n",
       "        text-align: right;\n",
       "    }\n",
       "</style>\n",
       "<table border=\"1\" class=\"dataframe\">\n",
       "  <thead>\n",
       "    <tr style=\"text-align: right;\">\n",
       "      <th></th>\n",
       "      <th>rank</th>\n",
       "      <th>word</th>\n",
       "      <th>freq</th>\n",
       "      <th>wordle_solution</th>\n",
       "      <th>counts</th>\n",
       "      <th>matchstring</th>\n",
       "    </tr>\n",
       "  </thead>\n",
       "  <tbody>\n",
       "    <tr>\n",
       "      <th>72</th>\n",
       "      <td>72</td>\n",
       "      <td>point</td>\n",
       "      <td>242269.0000</td>\n",
       "      <td>1</td>\n",
       "      <td>00000000100001110001000000</td>\n",
       "      <td>point00000000100001110001000000</td>\n",
       "    </tr>\n",
       "    <tr>\n",
       "      <th>384</th>\n",
       "      <td>384</td>\n",
       "      <td>count</td>\n",
       "      <td>42207.8000</td>\n",
       "      <td>1</td>\n",
       "      <td>00100000000001100001100000</td>\n",
       "      <td>count00100000000001100001100000</td>\n",
       "    </tr>\n",
       "    <tr>\n",
       "      <th>659</th>\n",
       "      <td>659</td>\n",
       "      <td>joint</td>\n",
       "      <td>18291.8000</td>\n",
       "      <td>1</td>\n",
       "      <td>00000000110001100001000000</td>\n",
       "      <td>joint00000000110001100001000000</td>\n",
       "    </tr>\n",
       "    <tr>\n",
       "      <th>1816</th>\n",
       "      <td>1816</td>\n",
       "      <td>fount</td>\n",
       "      <td>1498.4000</td>\n",
       "      <td>0</td>\n",
       "      <td>00000100000001100001100000</td>\n",
       "      <td>fount00000100000001100001100000</td>\n",
       "    </tr>\n",
       "    <tr>\n",
       "      <th>2940</th>\n",
       "      <td>2940</td>\n",
       "      <td>toxin</td>\n",
       "      <td>97.3095</td>\n",
       "      <td>1</td>\n",
       "      <td>00000000100001100001000100</td>\n",
       "      <td>toxin00000000100001100001000100</td>\n",
       "    </tr>\n",
       "  </tbody>\n",
       "</table>\n",
       "</div>"
      ],
      "text/plain": [
       "      rank   word         freq  wordle_solution                      counts  \\\n",
       "72      72  point  242269.0000                1  00000000100001110001000000   \n",
       "384    384  count   42207.8000                1  00100000000001100001100000   \n",
       "659    659  joint   18291.8000                1  00000000110001100001000000   \n",
       "1816  1816  fount    1498.4000                0  00000100000001100001100000   \n",
       "2940  2940  toxin      97.3095                1  00000000100001100001000100   \n",
       "\n",
       "                          matchstring  \n",
       "72    point00000000100001110001000000  \n",
       "384   count00100000000001100001100000  \n",
       "659   joint00000000110001100001000000  \n",
       "1816  fount00000100000001100001100000  \n",
       "2940  toxin00000000100001100001000100  "
      ]
     },
     "execution_count": 8,
     "metadata": {},
     "output_type": "execute_result"
    }
   ],
   "source": [
    "strat.wl.data"
   ]
  },
  {
   "cell_type": "code",
   "execution_count": null,
   "id": "8c4876e5-09e4-4e02-ab4b-2d970864ade9",
   "metadata": {},
   "outputs": [],
   "source": []
  }
 ],
 "metadata": {
  "kernelspec": {
   "display_name": "Python 3 (ipykernel)",
   "language": "python",
   "name": "python3"
  },
  "language_info": {
   "codemirror_mode": {
    "name": "ipython",
    "version": 3
   },
   "file_extension": ".py",
   "mimetype": "text/x-python",
   "name": "python",
   "nbconvert_exporter": "python",
   "pygments_lexer": "ipython3",
   "version": "3.9.9"
  }
 },
 "nbformat": 4,
 "nbformat_minor": 5
}
